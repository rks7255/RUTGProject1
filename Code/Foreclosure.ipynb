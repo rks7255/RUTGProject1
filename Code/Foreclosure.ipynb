{
 "cells": [
  {
   "cell_type": "code",
   "execution_count": 7,
   "metadata": {},
   "outputs": [],
   "source": [
    "import pandas as pd\n"
   ]
  },
  {
   "cell_type": "code",
   "execution_count": 12,
   "metadata": {},
   "outputs": [
    {
     "data": {
      "text/plain": [
       "APN                                    int64\n",
       "Registered Date                       object\n",
       "Property Type                         object\n",
       "Property Address                      object\n",
       "Property City                         object\n",
       "Property State                        object\n",
       "Property Zip                           int64\n",
       "Council District                       int64\n",
       "Lender                                object\n",
       "Lender Contact                        object\n",
       "Lender Contact Phone                  object\n",
       "Property Management                   object\n",
       "Property Management Contact           object\n",
       "Property Management Address           object\n",
       "Property Management Contact Phone     object\n",
       "Longitude                            float64\n",
       "Latitude                             float64\n",
       "Property on Map                       object\n",
       "Zip Codes                              int64\n",
       "dtype: object"
      ]
     },
     "execution_count": 12,
     "metadata": {},
     "output_type": "execute_result"
    }
   ],
   "source": [
    "csv_path = \"../Source/ForeclosureData/2019_Registered_Foreclosure_Properties.csv\"\n",
    "forcls_df = pd.read_csv(csv_path)\n",
    "forcls_df.dtypes\n"
   ]
  },
  {
   "cell_type": "code",
   "execution_count": null,
   "metadata": {},
   "outputs": [],
   "source": []
  }
 ],
 "metadata": {
  "kernelspec": {
   "display_name": "Python 3",
   "language": "python",
   "name": "python3"
  },
  "language_info": {
   "codemirror_mode": {
    "name": "ipython",
    "version": 3
   },
   "file_extension": ".py",
   "mimetype": "text/x-python",
   "name": "python",
   "nbconvert_exporter": "python",
   "pygments_lexer": "ipython3",
   "version": "3.7.3"
  }
 },
 "nbformat": 4,
 "nbformat_minor": 2
}
